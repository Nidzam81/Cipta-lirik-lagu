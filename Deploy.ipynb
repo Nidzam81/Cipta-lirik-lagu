{
 "cells": [
  {
   "cell_type": "code",
   "execution_count": 5,
   "metadata": {},
   "outputs": [],
   "source": [
    "import tensorflow as tf\n",
    "\n",
    "from tensorflow.keras.preprocessing.sequence import pad_sequences\n",
    "from tensorflow.keras.layers import Embedding, LSTM, Dense, Dropout, Bidirectional\n",
    "from tensorflow.keras.preprocessing.text import Tokenizer\n",
    "from tensorflow.keras.models import Sequential\n",
    "from tensorflow.keras.optimizers import Adam\n",
    "from tensorflow import keras\n",
    "import numpy as np "
   ]
  },
  {
   "cell_type": "code",
   "execution_count": 13,
   "metadata": {},
   "outputs": [
    {
     "name": "stdout",
     "output_type": "stream",
     "text": [
      "{'ku': 1, 'aku': 2, 'di': 3, 'kau': 4, 'yang': 5, 'kita': 6, 'ini': 7, 'tak': 8, 'cinta': 9, 'dan': 10, 'dalam': 11, 'apa': 12, 'hati': 13, 'tanya': 14, 'rindu': 15, 'rasa': 16, 'kata': 17, 'khabar': 18, 'dengan': 19, 'untuk': 20, 'semua': 21, 'ada': 22, 'tiada': 23, 'oh': 24, 'tapi': 25, 'tidak': 26, 'bila': 27, 'tahu': 28, 'setiap': 29, 'kan': 30, 'sayang': 31, 'kasih': 32, 'ke': 33, 'namun': 34, 'banyak': 35, 'hanya': 36, 'bersama': 37, 'hari': 38, 'pergi': 39, 'kini': 40, 'kekasih': 41, 'cintaku': 42, 'diri': 43, 'engkau': 44, 'itu': 45, 'mungkin': 46, 'harus': 47, 'mimpi': 48, 'mana': 49, 'sendiri': 50, 'agar': 51, 'hatiku': 52, 'cuba': 53, 'pabila': 54, 'bertemu': 55, 'menangis': 56, 'pada': 57, 'walau': 58, 'pilu': 59, 'kalau': 60, 'kala': 61, 'nak': 62, 'bahagia': 63, 'selamanya': 64, 'hidupku': 65, 'kali': 66, 'moga': 67, 'pernah': 68, 'semalam': 69, 'mata': 70, 'dari': 71, 'lagi': 72, 'seorang': 73, 'hatimu': 74, 'lebih': 75, 'dua': 76, 'jadi': 77, 'lagu': 78, 'juga': 79, 'saja': 80, 'oooo': 81, 'andai': 82, 'dulu': 83, 'akan': 84, 'kenangan': 85, 'hingga': 86, 'masih': 87, 'lama': 88, 'mengerti': 89, 'pula': 90, 'sungguh': 91, 'hidup': 92, 'langkah': 93, 'biar': 94, 'hadir': 95, 'luka': 96, 'jari': 97, 'mampu': 98, 'terluka': 99, 'walaupun': 100, 'makin': 101, 'sampai': 102, 'luar': 103, 'tangisan': 104, 'beri': 105, 'orang': 106, 'sisi': 107, 'pertama': 108, 'ingat': 109, 'jangan': 110, 'mahu': 111, 'dah': 112, 'pun': 113, 'tiba': 114, 'terakhir': 115, 'sambutlah': 116, 'duhai': 117, 'biarku': 118, 'sentuh': 119, 'ilahi': 120, 'bicara': 121, 'sepi': 122, 'sejak': 123, 'menunggu': 124, 'perlu': 125, 'pasti': 126, 'sesuatu': 127, 'semuanya': 128, 'menyayangi': 129, 'terpaksa': 130, 'rela': 131, 'menanti': 132, 'dirimu': 133, 'menjadi': 134, 'abadi': 135, 'seperti': 136, 'terbayang': 137, 'jiwa': 138, 'resah': 139, 'mekar': 140, 'setelah': 141, 'baru': 142, 'selalu': 143, 'bayang': 144, 'sentuhan': 145, 'cintamu': 146, 'dosa': 147, 'siapa': 148, 'sudi': 149, 'jua': 150, 'tajam': 151, 'gundah': 152, 'saling': 153, 'mu': 154, 'bina': 155, 'penuh': 156, 'insan': 157, 'senyum': 158, 'pilunya': 159, 'dia': 160, 'sakit': 161, 'begini': 162, 'menjelma': 163, 'permulaan': 164, 'dunia': 165, 'kadang': 166, 'waktu': 167, 'berhenti': 168, 'toleh': 169, 'sampingku': 170, 'seringkali': 171, 'semuka': 172, 'sahabatku': 173, 'sebelum': 174, 'ya': 175, 'satu': 176, 'saat': 177, 'jodoh': 178, 'malu': 179, 'teman': 180, 'redha': 181, 'indah': 182, 'masanya': 183, 'cari': 184, 'tetap': 185, 'cincin': 186, 'muka': 187, 'buku': 188, 'menentu': 189, 'kesepian': 190, 'sukar': 191, 'untukku': 192, 'menjemput': 193, 'terhenti': 194, 'sini': 195, 'pantai': 196, 'jadikan': 197, 'sejarah': 198, 'kenangkan': 199, 'tika': 200, 'kekal': 201, 'berulang': 202, 'mengharungi': 203, 'ketenangan': 204, 'harapan': 205, 'bagaikan': 206, 'memang': 207, 'terlalu': 208, 'berlalu': 209, 'mudah': 210, 'titis': 211, 'bisa': 212, 'sisa': 213, 'punya': 214, 'lamanya': 215, 'kekasihku': 216, 'terharu': 217, 'hasratku': 218, 'dapat': 219, 'bunga': 220, 'padang': 221, 'pasir': 222, 'musafir': 223, 'seteguk': 224, 'tanpa': 225, 'jambangan': 226, 'bagai': 227, 'sewaktu': 228, 'bernafas': 229, 'pedih': 230, 'patah': 231, 'asmara': 232, 'ketara': 233, 'kegelapan': 234, 'betapa': 235, 'bawah': 236, 'hilang': 237, 'memaksaku': 238, 'gelisah': 239, 'semurni': 240, 'esok': 241, 'suci': 242, 'menahan': 243, 'terkilan': 244, 'erti': 245, 'buat': 246, 'melihat': 247, 'semangat': 248, 'telah': 249, 'lahir': 250, 'segala': 251, 'namamu': 252, 'membuat': 253, 'hibanya': 254, 'sayu': 255, 'sekali': 256, 'si': 257, 'puja': 258, 'berikanlah': 259, 'jawapan': 260, 'huraikanlah': 261, 'simpulan': 262, 'tenang': 263, 'jiwaku': 264, 'pagi': 265, 'purnama': 266, 'kiri': 267, 'mereka': 268, 'masa': 269, 'kami': 270, 'rap': 271, 'anugerah': 272, 'makan': 273, 'empat': 274, 'katil': 275, 'budak': 276, 'gagal': 277, 'merancang': 278, 'zal': 279, 'angan': 280, 'impian': 281, 'cita': 282, 'puisi': 283, 'mengapa': 284, 'daya': 285, 'ketawa': 286, 'bersumpah': 287, 'harap': 288, 'mati': 289, 'menjak': 290, 'bukan': 291, 'kembali': 292, 'pengganti': 293, 'syawal': 294, 'sempurna': 295, 'nanti': 296, 'bagaimana': 297, 'bersua': 298, 'gementar': 299, 'perlukah': 300, 'peluang': 301, 'berjumpa': 302, 'persoalan': 303, 'berada': 304, 'minda': 305, 'tanda': 306, 'otak': 307, 'adakah': 308, 'soalan': 309, 'jawapannya': 310, 'dibiar': 311, 'berlaku': 312, 'kebaikannya': 313, 'pejam': 314, 'katakan': 315, 'suka': 316, 'terdiam': 317, 'terkedu': 318, 'tuju': 319, 'itulah': 320, 'selamat': 321, 'malam': 322, 'wanita': 323, 'temu': 324, 'seindah': 325, 'milikku': 326, 'ragui': 327, 'sucinya': 328, 'mengasihi': 329, 'setulus': 330, 'ayah': 331, 'ibu': 332, 'merestui': 333, 'menyarung': 334, 'rahmat': 335, 'bersemi': 336, 'diijabkabulkan': 337, 'syariat': 338, 'membataskan': 339, 'pelajari': 340, 'ilmu': 341, 'rumahtangga': 342, 'bersedia': 343, 'menuju': 344, 'bahgia': 345, 'merinduimu': 346, 'menyintaiku': 347, 'bersabarlah': 348, 'disatukan': 349, 'ikatan': 350, 'pernikahan': 351, 'sana': 352, 'tugu': 353, 'mahligai': 354, 'semoga': 355, 'berdoalah': 356, 'berpanjangan': 357, 'ï»¿malam': 358, 'semakin': 359, 'kelam': 360, 'tambah': 361, 'lenaku': 362, 'terhapus': 363, 'berkurun': 364, 'haruskah': 365, 'langkahmu': 366, 'berpalinglah': 367, 'padaku': 368, 'jernihkanlah': 369, 'kekeruhan': 370, 'kasihmu': 371, 'ibarat': 372, 'laut': 373, 'berombak': 374, 'begitulah': 375, 'semenjak': 376, 'terusik': 377, 'mengenang': 378, 'taman': 379, 'terasa': 380, 'hangatnya': 381, 'sentuhanmu': 382, 'dimiliki': 383, 'fikir': 384, 'bakal': 385, 'ditinggalkan': 386, 'tersiksa': 387, 'kekecewaan': 388, 'liku': 389, 'kehidupan': 390, 'waspada': 391, 'bimbangi': 392, 'diriku': 393, 'tergelinciran': 394, 'menyesal': 395, 'seusia': 396, 'fahami': 397, 'sabar': 398, 'isi': 399, 'ruang': 400, 'pendirian': 401, 'entah': 402, 'berapa': 403, 'membohong': 404, 'hebat': 405, 'dilanda': 406, 'padamu': 407, 'alasan': 408, 'rapuh': 409, 'awan': 410, 'berarak': 411, 'cepatnya': 412, 'digiring': 413, 'angin': 414, 'layu': 415, 'selepas': 416, 'ia': 417, 'melimpahkan': 418, 'ehsan': 419, 'sangat': 420, 'terdesak': 421, 'memilikmu': 422, 'meneruskan': 423, 'manusia': 424, 'sendirian': 425, 'terkenang': 426, 'wajahmu': 427, 'terlena': 428, 'tidurku': 429, 'terdaya': 430, 'menanggung': 431, 'sekian': 432, 'kehadiran': 433, 'sengaja': 434, 'menggodaku': 435, 'atau': 436, 'sekadar': 437, 'menduga': 438, 'pasangan': 439, 'serindit': 440, 'mengucup': 441, 'paruh': 442, 'sambil': 443, 'melanda': 444, 'belenggu': 445, 'kalbuku': 446, 'berilah': 447, 'kesempatan': 448, 'bermesra': 449, 'bermanja': 450, 'mengelamun': 451, 'bercinta': 452, 'umpama': 453, 'sekuntum': 454, 'adalah': 455, 'dahaga': 456, 'kehausan': 457, 'dataran': 458, 'kering': 459, 'kontang': 460, 'penghuni': 461, 'asing': 462, 'bungaku': 463, 'subur': 464, 'merayuku': 465, 'dahagakan': 466, 'air': 467, 'melangkah': 468, 'tertikam': 469, 'tuturmu': 470, 'airmataku': 471, 'melungsur': 472, 'laju': 473, 'ketiadaanmu': 474, 'teramat': 475, 'dahan': 476, 'haluan': 477, 'puncak': 478, 'diliputi': 479, 'mega': 480, 'akhirnya': 481, 'mengatur': 482, 'panas': 483, 'terik': 484, 'matahari': 485, 'hangus': 486, 'siksaan': 487, 'terbina': 488, 'menagih': 489, 'sebagaimana': 490, 'dahulu': 491, 'darimu': 492, 'denganmu': 493, 'membelai': 494, 'rintihan': 495, 'memilukan': 496, 'sendu': 497, 'menghiba': 498, 'mengatakan': 499, 'sumber': 500, 'ilhamku': 501, 'restu': 502, 'langkahku': 503, 'tercemar': 504, 'terhurai': 505, 'dipenjara': 506, 'noda': 507, 'bisikan': 508, 'madu': 509, 'bermulalah': 510, 'kenal': 511, 'kesucian': 512, 'kepahitan': 513, 'rindukan': 514, 'cahaya': 515, 'serahkan': 516, 'harapanku': 517, 'genggam': 518, 'jemarimu': 519, 'ikhlas': 520, 'bawaku': 521, 'kasturi': 522, 'terlanjur': 523, 'persendakan': 524, 'datang': 525, 'senda': 526, 'gurauan': 527, 'memanas': 528, 'tercela': 529, 'membawa': 530, 'bersimpati': 531, 'mengajak': 532, 'pulang': 533, 'pangkal': 534, 'jalan': 535, 'siksa': 536, 'ratu': 537, 'siapakah': 538, 'percintaan': 539, 'dihujani': 540, 'halangan': 541, 'sia': 542, 'sialah': 543, 'berkorban': 544, 'selama': 545, 'miliki': 546, 'dihiris': 547, 'belati': 548, 'perasaan': 549, 'berdarah': 550, 'kutahu': 551, 'amat': 552, 'kuat': 553, 'memberi': 554, 'jurang': 555, 'pemisah': 556, 'antara': 557, 'hampir': 558, 'hina': 559, 'sangatkah': 560, 'pandangan': 561, 'keluargamu': 562, 'sewenang': 563, 'tohmahan': 564, 'dilemparkan': 565, 'bisu': 566, 'bermatian': 567, 'menepis': 568, 'hinaan': 569, 'kesudahan': 570, 'ikhtiarku': 571, 'kuundur': 572, 'pihak': 573, 'kerna': 574, 'dipaksa': 575, 'lupakan': 576, 'menurut': 577, 'lepaskan': 578, 'sayangku': 579, 'bertaut': 580, 'sejauh': 581, 'bertahan': 582, 'harusku': 583, 'kenang': 584, 'bertentangan': 585, 'cemburumu': 586, 'merantai': 587, 'meleburkan': 588, 'kemanisan': 589, 'lalu': 590, 'ketepikan': 591, 'andaiku': 592, 'turut': 593, 'jauh': 594, 'bawa': 595, 'kemaafanku': 596, 'mengatasi': 597, 'engkauku': 598, 'maafkan': 599, 'sementara': 600, 'keinsafan': 601, 'berpanas': 602, 'hujan': 603, 'berembun': 604, 'hiraukan': 605, 'asal': 606, 'memenuhi': 607, 'keinginan': 608, 'istana': 609, 'dihiasi': 610, 'lukisan': 611, 'indahnya': 612, 'kepalsuan': 613, 'terbuktilah': 614, 'sisimu': 615, 'nama': 616, 'sayangmu': 617, 'sayangnya': 618, 'berpimpin': 619, 'tangan': 620, 'dihargai': 621, 'terhina': 622, 'letih': 623, 'bermaya': 624, 'harum': 625, 'bermain': 626, 'seksa': 627, 'mengusung': 628, 'berdaya': 629, 'kulupa': 630, 'perjanjian': 631, 'rumpun': 632, 'bambu': 633, 'merenung': 634, 'jendela': 635, 'bayu': 636, 'meniup': 637, 'lembut': 638, 'lihat': 639, 'bintang': 640, 'angkasa': 641, 'menerangi': 642, 'gelapku': 643, 'fajar': 644, 'gamat': 645, 'bunyinya': 646, 'sunyiku': 647, 'tuhan': 648, 'perjalanan': 649, 'persimpangan': 650, 'bertukar': 651, 'arah': 652, 'lurus': 653, 'tegak': 654, 'kanan': 655, 'tersilap': 656, 'depan': 657, 'cerah': 658, 'lirik': 659, 'bak': 660, 'lapar': 661, 'mee': 662, 'segera': 663, 'show': 664, 'kl': 665, 'pulau': 666, 'pinang': 667, 'lapan': 668, 'naik': 669, 'kancil': 670, 'senang': 671, 'billik': 672, 'lantai': 673, 'silap': 674, 'tepi': 675, 'diserbu': 676, 'peminat': 677, 'kuching': 678, 'sarawak': 679, 'seakan': 680, 'percaya': 681, 'berjaya': 682, 'sebagai': 683, 'kerjaya': 684, 'pengembaraan': 685, 'berliku': 686, 'sinopsis': 687, 'kembarku': 688, 'boleh': 689, 'faham': 690, 'mulanya': 691, 'menjajah': 692, 'bahasa': 693, 'penjajah': 694, 'berdua': 695, 'belasan': 696, 'pandai': 697, 'percaturan': 698, 'industri': 699, 'peraturan': 700, 'bahas': 701, 'pidatokan': 702, 'sebab': 703, 'bijak': 704, 'pesanmu': 705, 'z': 706, 'paling': 707, 'handal': 708, 'suntikan': 709, 'persembahan': 710, 'phenomenal': 711, 'beribu': 712, 'fans': 713, 'stadium': 714, 'lepas': 715, 'pusing': 716, 'malaysia': 717, 'singapore': 718, 'brunei': 719, 'indonesia': 720, 'jalanan': 721, 'tercipta': 722, 'bermimpi': 723, 'doaku': 724, 'esa': 725, 'ketika': 726, 'berbeza': 727, 'bulan': 728, 'sedang': 729, 'beradu': 730, 'terjadi': 731, 'perpisahan': 732, 'melebar': 733, 'sayapnya': 734, 'terlukis': 735, 'heboh': 736, 'serindu': 737, 'rindunya': 738, 'sepilu': 739, 'perduli': 740, 'semalu': 741, 'malunya': 742, 'semahu': 743, 'mahunya': 744, 'benci': 745, 'kerap': 746, 'diganggu': 747, 'visi': 748, 'celik': 749, 'nampak': 750, 'membelaimu': 751, 'izin': 752, 'permisi': 753, 'katanya': 754, 'iakan': 755, 'diamkan': 756, 'biarkan': 757, 'damba': 758, 'hampa': 759, 'dijangka': 760, 'beberapa': 761, 'bertahta': 762, 'dibina': 763, 'belaka': 764, 'hakikatnya': 765, 'sembunyikan': 766, 'gulana': 767, 'segalanya': 768, 'berubah': 769, 'dengarkan': 770, 'luah': 771, 'rahsia': 772, 'pendamkan': 773, 'galanya': 774, 'ceritakan': 775, 'maya': 776, 'prejudis': 777, 'bias': 778, 'terlepas': 779, 'terkena': 780, 'tempias': 781, 'rimas': 782, 'ditindas': 783, 'sembunyi': 784, 'kias': 785, 'bidas': 786, 'berpaling': 787, 'sekilas': 788, 'kodeksku': 789, 'kompleks': 790, 'disleksia': 791, 'konteks': 792, 'seolah': 793, 'memahami': 794, 'selami': 795, 'dalami': 796, 'mengalami': 797, 'setia': 798, 'mendengar': 799, 'sentiasa': 800, 'ulangtahun': 801, 'kaulah': 802, 'terawal': 803, 'janggal': 804, '70': 805, '000': 806, 'hijab': 807, 'singkap': 808, 'sorok': 809, 'kitab': 810, 'balik': 811, 'tingkap': 812, 'penjara': 813, 'hinggap': 814, 'diam': 815, 'teristimewa': 816, 'mencari': 817, 'fungsi': 818, 'kewujudan': 819, 'persekitaran': 820, 'kejumudan': 821, 'terperangkap': 822, 'jasad': 823, 'keliru': 824, 'mujur': 825, 'peneutralisasi': 826, 'murung': 827, 'berkurung': 828, 'tubuh': 829, 'susut': 830, 'tarikh': 831, 'luput': 832, 'komplikasi': 833, 'halaman': 834, 'rusuk': 835, 'bergerak': 836, 'berdiri': 837, 'sajikan': 838, 'bolehlah': 839, 'nyanyikan': 840, 'jaga': 841, 'tumbuh': 842, 'berganti': 843, 'bilik': 844, 'kemas': 845, 'rapi': 846, 'kunci': 847, 'dompet': 848, 'laci': 849, 'sikit': 850, 'wang': 851, 'baki': 852, 'cukup': 853, 'majlis': 854, 'berkenalan': 855, 'laman': 856, 'hantar': 857, 'pesan': 858, 'suruh': 859, 'terima': 860, 'kamu': 861, 'jumpa': 862, 'berdebar': 863, 'benarkah': 864, 'renung': 865, 'remaja': 866, 'menjelang': 867, 'kubayang': 868, 'wajah': 869, 'indahmu': 870, 'bersamaku': 871, 'disisiku': 872, 'ukir': 873, 'manismu': 874, 'belum': 875, 'milik': 876, 'ohhhh': 877, 'lain': 878, 'renangi': 879, 'lautan': 880, 'menukil': 881, 'disini': 882, 'pelukanku': 883, 'terimalah': 884, 'impi': 885, 'bersamamu': 886, 'syurga': 887}\n"
     ]
    }
   ],
   "source": [
    "import json\n",
    "\n",
    "#importing saved model\n",
    "model = keras.models.load_model('test.h5')\n",
    "\n",
    "#importing word index\n",
    "with open('word_index.json') as f:\n",
    "    word_index = json.load(f)\n",
    "#print(word_index)"
   ]
  },
  {
   "cell_type": "code",
   "execution_count": 39,
   "metadata": {},
   "outputs": [
    {
     "name": "stdout",
     "output_type": "stream",
     "text": [
      "[11, 52, 7]\n",
      "[11, 52, 7, 22]\n",
      "[11, 52, 7, 22, 104]\n",
      "[11, 52, 7, 22, 104, 574]\n",
      "[11, 52, 7, 22, 104, 574, 22]\n",
      "[11, 52, 7, 22, 104, 574, 22, 13]\n",
      "[11, 52, 7, 22, 104, 574, 22, 13, 597]\n",
      "[11, 52, 7, 22, 104, 574, 22, 13, 597, 89]\n",
      "[11, 52, 7, 22, 104, 574, 22, 13, 597, 89, 45]\n",
      "[11, 52, 7, 22, 104, 574, 22, 13, 597, 89, 45, 53]\n",
      "dalam hatiku ini ada tangisan kerna ada hati mengatasi mengerti itu cuba menyayangi\n"
     ]
    }
   ],
   "source": [
    "seed_text = \"dalam hatiku ini\"\n",
    "next_words = 10\n",
    "max_sequence_len = 100\n",
    "tokenizer = Tokenizer()\n",
    "tokenizer.word_index = word_index\n",
    "for _ in range(next_words):\n",
    "    token_list = tokenizer.texts_to_sequences([seed_text])[0]\n",
    "    print(token_list)\n",
    "    token_list = pad_sequences([token_list], maxlen=max_sequence_len-1, padding='pre')\n",
    "    predicted = model.predict_classes(token_list, verbose=0)\n",
    "    output_word = \"\"\n",
    "    for word, index in tokenizer.word_index.items():\n",
    "        if index == predicted:\n",
    "            output_word = word\n",
    "            break\n",
    "    seed_text += \" \" + output_word\n",
    "print(seed_text)"
   ]
  },
  {
   "cell_type": "code",
   "execution_count": null,
   "metadata": {},
   "outputs": [],
   "source": []
  }
 ],
 "metadata": {
  "kernelspec": {
   "display_name": "Python 3",
   "language": "python",
   "name": "python3"
  },
  "language_info": {
   "codemirror_mode": {
    "name": "ipython",
    "version": 3
   },
   "file_extension": ".py",
   "mimetype": "text/x-python",
   "name": "python",
   "nbconvert_exporter": "python",
   "pygments_lexer": "ipython3",
   "version": "3.8.7"
  }
 },
 "nbformat": 4,
 "nbformat_minor": 4
}
